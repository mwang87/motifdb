{
 "cells": [
  {
   "cell_type": "markdown",
   "metadata": {},
   "source": [
    "Notebook to give a demo of using the db with MS2LDA"
   ]
  },
  {
   "cell_type": "code",
   "execution_count": 1,
   "metadata": {},
   "outputs": [],
   "source": [
    "import sys\n",
    "db_path = '/home/simon/git/motifdb/motifs/'\n",
    "sys.path.append('/home/simon/git/motifdb/code/utilities/')\n",
    "sys.path.append('/home/simon/git/lda/code/')"
   ]
  },
  {
   "cell_type": "code",
   "execution_count": 3,
   "metadata": {},
   "outputs": [],
   "source": [
    "from motifdb_loader import load_db"
   ]
  },
  {
   "cell_type": "markdown",
   "metadata": {},
   "source": [
    "Choose the databases to use"
   ]
  },
  {
   "cell_type": "code",
   "execution_count": 59,
   "metadata": {},
   "outputs": [],
   "source": [
    "db_list = ['lf_005','massbank_binned_005']"
   ]
  },
  {
   "cell_type": "code",
   "execution_count": 60,
   "metadata": {},
   "outputs": [
    {
     "name": "stdout",
     "output_type": "stream",
     "text": [
      "Looking in /home/simon/git/motifdb/motifs/lf_005/*.m2m\n",
      "\t Found 64\n",
      "Looking in /home/simon/git/motifdb/motifs/massbank_binned_005/*.m2m\n",
      "\t Found 46\n",
      "Found total of 110 motif files\n"
     ]
    }
   ],
   "source": [
    "db_spectra,db_metadata = load_db(db_list,db_path)"
   ]
  },
  {
   "cell_type": "code",
   "execution_count": 61,
   "metadata": {},
   "outputs": [],
   "source": [
    "mgf_file = '/home/simon/Dropbox/BioResearch/Meta_clustering/MS2LDA/mol_families/spectral_data_ms2_BioCorrected.mgf'"
   ]
  },
  {
   "cell_type": "code",
   "execution_count": 62,
   "metadata": {},
   "outputs": [
    {
     "name": "stdout",
     "output_type": "stream",
     "text": [
      "Filtering MS2 on intensity\n",
      "708295 MS2 remaining\n"
     ]
    }
   ],
   "source": [
    "from ms2lda_feature_extraction import LoadMGF,MakeBinnedFeatures\n",
    "l = LoadMGF(min_ms2_intensity = 500.0)\n",
    "ms1,ms2,metadata = l.load_spectra([mgf_file])"
   ]
  },
  {
   "cell_type": "code",
   "execution_count": 63,
   "metadata": {},
   "outputs": [],
   "source": [
    "import csv\n",
    "family_file = '/home/simon/Dropbox/BioResearch/Meta_clustering/MS2LDA/mol_families/Cluster9.txt'\n",
    "f_id = []\n",
    "with open(family_file,'r') as f:\n",
    "    reader = csv.reader(f)\n",
    "    for line in f:\n",
    "        f_id.append(line.strip())\n"
   ]
  },
  {
   "cell_type": "code",
   "execution_count": 64,
   "metadata": {},
   "outputs": [],
   "source": [
    "sub_ms1 = {}\n",
    "for doc in metadata:\n",
    "    fid = metadata[doc]['featid']\n",
    "    if fid in f_id:\n",
    "        sub_ms1[doc] = fid"
   ]
  },
  {
   "cell_type": "code",
   "execution_count": 65,
   "metadata": {},
   "outputs": [
    {
     "name": "stdout",
     "output_type": "stream",
     "text": [
      "5629 documents\n",
      "After removing empty words, 70006 words left\n"
     ]
    }
   ],
   "source": [
    "mf = MakeBinnedFeatures(bin_width = 0.005)\n",
    "corpus,features = mf.make_features(ms2)"
   ]
  },
  {
   "cell_type": "code",
   "execution_count": 66,
   "metadata": {},
   "outputs": [],
   "source": [
    "corpus = corpus[corpus.keys()[0]]"
   ]
  },
  {
   "cell_type": "code",
   "execution_count": 67,
   "metadata": {},
   "outputs": [],
   "source": [
    "sub_corpus = {}\n",
    "for doc in sub_ms1:\n",
    "    sub_corpus[doc] = corpus[doc]"
   ]
  },
  {
   "cell_type": "code",
   "execution_count": 68,
   "metadata": {},
   "outputs": [
    {
     "name": "stdout",
     "output_type": "stream",
     "text": [
      "The autoreload extension is already loaded. To reload it, use:\n",
      "  %reload_ext autoreload\n",
      "Found 6325 unique words\n",
      "Object created with 69 documents\n",
      "Normalising intensities\n"
     ]
    }
   ],
   "source": [
    "%load_ext autoreload\n",
    "%autoreload 2\n",
    "from lda import VariationalLDA\n",
    "vlda = VariationalLDA(sub_corpus,K = 4,normalise = 1000.0,fixed_topics = db_spectra,fixed_topics_metadata = db_metadata)"
   ]
  },
  {
   "cell_type": "code",
   "execution_count": 69,
   "metadata": {
    "scrolled": true
   },
   "outputs": [
    {
     "name": "stdout",
     "output_type": "stream",
     "text": [
      "Initialising\n",
      "Starting iterations\n",
      "Iteration 0 (change = 5.69307571388) (0.501466 seconds, I think I'll finish in 0.835776666667 minutes). Alpha: (0.2422849309,8.12976495032)\n",
      "Iteration 1 (change = 1.03786598544) (15.055072 seconds, I think I'll finish in 24.8408688 minutes). Alpha: (0.116555733038,4.1827814222)\n",
      "Iteration 2 (change = 0.929836139185) (2.072748 seconds, I think I'll finish in 3.3854884 minutes). Alpha: (0.073659771914,2.65066915815)\n",
      "Iteration 3 (change = 0.832736935949) (2.075406 seconds, I think I'll finish in 3.3552397 minutes). Alpha: (0.0529156881671,1.89294880032)\n",
      "Iteration 4 (change = 0.739752731381) (1.96538 seconds, I think I'll finish in 3.144608 minutes). Alpha: (0.0408898180075,1.53611133159)\n",
      "Iteration 5 (change = 0.654533650588) (1.665588 seconds, I think I'll finish in 2.637181 minutes). Alpha: (0.0331042827367,1.38928942929)\n",
      "Iteration 6 (change = 0.612624389849) (1.406213 seconds, I think I'll finish in 2.20306703333 minutes). Alpha: (0.0276793993488,1.25510015181)\n",
      "Iteration 7 (change = 0.58013705718) (1.434198 seconds, I think I'll finish in 2.2230069 minutes). Alpha: (0.0236968359585,1.13062151478)\n",
      "Iteration 8 (change = 0.560889416896) (1.271881 seconds, I think I'll finish in 1.95021753333 minutes). Alpha: (0.0206562730159,1.00923677276)\n",
      "Iteration 9 (change = 0.529313131707) (1.154301 seconds, I think I'll finish in 1.75068985 minutes). Alpha: (0.0182636058643,0.896438854865)\n",
      "Iteration 10 (change = 0.499395451608) (1.050233 seconds, I think I'll finish in 1.5753495 minutes). Alpha: (0.0163354888254,0.798300992644)\n",
      "Iteration 11 (change = 0.479052459) (1.087939 seconds, I think I'll finish in 1.61377618333 minutes). Alpha: (0.0147514228285,0.714879279827)\n",
      "Iteration 12 (change = 0.469617707004) (1.166949 seconds, I think I'll finish in 1.7115252 minutes). Alpha: (0.0134290782606,0.644106088784)\n",
      "Iteration 13 (change = 0.438346892798) (1.10053 seconds, I think I'll finish in 1.5957685 minutes). Alpha: (0.0123101055056,0.584772323655)\n",
      "Iteration 14 (change = 0.367530955354) (1.013812 seconds, I think I'll finish in 1.45313053333 minutes). Alpha: (0.0113519658696,0.536225183011)\n",
      "Iteration 15 (change = 0.292863897427) (0.961808 seconds, I think I'll finish in 1.36256133333 minutes). Alpha: (0.0105231286162,0.496422365794)\n",
      "Iteration 16 (change = 0.240608203968) (0.913147 seconds, I think I'll finish in 1.2784058 minutes). Alpha: (0.00979980679329,0.463224603707)\n",
      "Iteration 17 (change = 0.211815783745) (0.952023 seconds, I think I'll finish in 1.31696515 minutes). Alpha: (0.00916363867617,0.434832249064)\n",
      "Iteration 18 (change = 0.194120279603) (0.936087 seconds, I think I'll finish in 1.2793189 minutes). Alpha: (0.00860022904536,0.40994385124)\n",
      "Iteration 19 (change = 0.176530493947) (0.921167 seconds, I think I'll finish in 1.24357545 minutes). Alpha: (0.00809805673755,0.38790427553)\n",
      "Iteration 20 (change = 0.168176199596) (0.948275 seconds, I think I'll finish in 1.26436666667 minutes). Alpha: (0.00764782298489,0.368364801731)\n",
      "Iteration 21 (change = 0.165870208946) (0.845922 seconds, I think I'll finish in 1.1137973 minutes). Alpha: (0.00724202999152,0.351252163633)\n",
      "Iteration 22 (change = 0.161501808458) (0.840839 seconds, I think I'll finish in 1.0930907 minutes). Alpha: (0.00687456793771,0.336483563124)\n",
      "Iteration 23 (change = 0.156427399484) (0.866076 seconds, I think I'll finish in 1.1114642 minutes). Alpha: (0.00654043120387,0.323885325515)\n",
      "Iteration 24 (change = 0.151004548059) (0.85401 seconds, I think I'll finish in 1.081746 minutes). Alpha: (0.00623544419227,0.313141808312)\n",
      "Iteration 25 (change = 0.143305595736) (0.836355 seconds, I think I'll finish in 1.04544375 minutes). Alpha: (0.00595605329146,0.303976779424)\n",
      "Iteration 26 (change = 0.136507299875) (0.778063 seconds, I think I'll finish in 0.959611033333 minutes). Alpha: (0.00569926448019,0.295954933941)\n",
      "Iteration 27 (change = 0.12577313779) (0.77651 seconds, I think I'll finish in 0.944753833333 minutes). Alpha: (0.00546253831958,0.288590550768)\n",
      "Iteration 28 (change = 0.115751449856) (0.745857 seconds, I think I'll finish in 0.8950284 minutes). Alpha: (0.00524368470822,0.28165232964)\n",
      "Iteration 29 (change = 0.112487208633) (0.732265 seconds, I think I'll finish in 0.866513583333 minutes). Alpha: (0.00504078945231,0.275105467976)\n",
      "Iteration 30 (change = 0.110654888376) (0.727702 seconds, I think I'll finish in 0.848985666667 minutes). Alpha: (0.00485219935312,0.269031114065)\n",
      "Iteration 31 (change = 0.108247622521) (0.689611 seconds, I think I'll finish in 0.79305265 minutes). Alpha: (0.00467648618849,0.264477460063)\n",
      "Iteration 32 (change = 0.108881463008) (0.740886 seconds, I think I'll finish in 0.8396708 minutes). Alpha: (0.00451242326425,0.260285220495)\n",
      "Iteration 33 (change = 0.11456844995) (0.774154 seconds, I think I'll finish in 0.864471966667 minutes). Alpha: (0.00435894575534,0.256280636565)\n",
      "Iteration 34 (change = 0.121439320704) (0.7205 seconds, I think I'll finish in 0.79255 minutes). Alpha: (0.00421507878051,0.252324663316)\n",
      "Iteration 35 (change = 0.129398712576) (0.728866 seconds, I think I'll finish in 0.789604833333 minutes). Alpha: (0.00407996657346,0.248396129574)\n",
      "Iteration 36 (change = 0.138391830212) (0.701452 seconds, I think I'll finish in 0.748215466667 minutes). Alpha: (0.00395284780561,0.244425040713)\n",
      "Iteration 37 (change = 0.143804521675) (0.707557 seconds, I think I'll finish in 0.74293485 minutes). Alpha: (0.00383305212192,0.240331255007)\n",
      "Iteration 38 (change = 0.137888089896) (0.700665 seconds, I think I'll finish in 0.7240205 minutes). Alpha: (0.0037199764883,0.235951732816)\n",
      "Iteration 39 (change = 0.130781409186) (0.69164 seconds, I think I'll finish in 0.703167333333 minutes). Alpha: (0.00361306630322,0.231122933877)\n",
      "Iteration 40 (change = 0.127085056817) (0.730611 seconds, I think I'll finish in 0.730611 minutes). Alpha: (0.00351183884155,0.226103050216)\n",
      "Iteration 41 (change = 0.120894953901) (0.764867 seconds, I think I'll finish in 0.752119216667 minutes). Alpha: (0.0034158592567,0.221146089684)\n",
      "Iteration 42 (change = 0.110743991887) (0.739207 seconds, I think I'll finish in 0.714566766667 minutes). Alpha: (0.0033247225323,0.216242690615)\n",
      "Iteration 43 (change = 0.0925985002508) (0.747485 seconds, I think I'll finish in 0.71011075 minutes). Alpha: (0.00323807294708,0.214183331348)\n",
      "Iteration 44 (change = 0.0730552726164) (0.744617 seconds, I think I'll finish in 0.694975866667 minutes). Alpha: (0.00315558032208,0.212329974879)\n",
      "Iteration 45 (change = 0.0602797754768) (0.692626 seconds, I think I'll finish in 0.634907166667 minutes). Alpha: (0.00307694271723,0.210446623222)\n",
      "Iteration 46 (change = 0.0551303905898) (0.734137 seconds, I think I'll finish in 0.6607233 minutes). Alpha: (0.00300190017968,0.208589162035)\n",
      "Iteration 47 (change = 0.055084700959) (0.718869 seconds, I think I'll finish in 0.63500095 minutes). Alpha: (0.00293022640588,0.206822140449)\n",
      "Iteration 48 (change = 0.0546776350539) (0.656096 seconds, I think I'll finish in 0.568616533333 minutes). Alpha: (0.00286171905104,0.205187531735)\n",
      "Iteration 49 (change = 0.0461318876347) (0.670728 seconds, I think I'll finish in 0.5701188 minutes). Alpha: (0.00279618334288,0.203652494925)\n",
      "Iteration 50 (change = 0.035346761474) (0.668212 seconds, I think I'll finish in 0.556843333333 minutes). Alpha: (0.00273343815618,0.202193557302)\n",
      "Iteration 51 (change = 0.0364253152883) (0.665582 seconds, I think I'll finish in 0.543558633333 minutes). Alpha: (0.00267332927616,0.200864489542)\n",
      "Iteration 52 (change = 0.0387722737231) (0.62585 seconds, I think I'll finish in 0.50068 minutes). Alpha: (0.00261570396619,0.199628403751)\n",
      "Iteration 53 (change = 0.0395850584288) (0.684096 seconds, I think I'll finish in 0.5358752 minutes). Alpha: (0.00256041332164,0.198431270733)\n",
      "Iteration 54 (change = 0.038571410299) (0.689712 seconds, I think I'll finish in 0.5287792 minutes). Alpha: (0.00250731557918,0.197229971665)\n",
      "Iteration 55 (change = 0.0364616506292) (0.633087 seconds, I think I'll finish in 0.47481525 minutes). Alpha: (0.002456287003,0.196051739139)\n",
      "Iteration 56 (change = 0.034328581425) (0.650029 seconds, I think I'll finish in 0.476687933333 minutes). Alpha: (0.0024072068691,0.194860747053)\n",
      "Iteration 57 (change = 0.0327976752435) (0.660882 seconds, I think I'll finish in 0.4736321 minutes). Alpha: (0.00235996045381,0.193618246005)\n"
     ]
    },
    {
     "name": "stdout",
     "output_type": "stream",
     "text": [
      "Iteration 58 (change = 0.0319076105257) (0.672364 seconds, I think I'll finish in 0.4706548 minutes). Alpha: (0.00231444977908,0.192355662092)\n",
      "Iteration 59 (change = 0.0304615854374) (0.653822 seconds, I think I'll finish in 0.446778366667 minutes). Alpha: (0.00227058804973,0.191110004565)\n",
      "Iteration 60 (change = 0.0237177193113) (0.664245 seconds, I think I'll finish in 0.44283 minutes). Alpha: (0.00222829048954,0.189870666554)\n",
      "Iteration 61 (change = 0.0177735563571) (0.6822 seconds, I think I'll finish in 0.44343 minutes). Alpha: (0.00218747679888,0.188616936307)\n",
      "Iteration 62 (change = 0.01490155091) (0.685031 seconds, I think I'll finish in 0.433852966667 minutes). Alpha: (0.00214807070562,0.187310821704)\n",
      "Iteration 63 (change = 0.0129929672513) (0.682847 seconds, I think I'll finish in 0.421088983333 minutes). Alpha: (0.00211000004281,0.185899141279)\n",
      "Iteration 64 (change = 0.0113937748636) (0.66022 seconds, I think I'll finish in 0.396132 minutes). Alpha: (0.00207320051882,0.184328643984)\n",
      "Iteration 65 (change = 0.0101564062552) (0.686111 seconds, I think I'll finish in 0.400231416667 minutes). Alpha: (0.00203761035959,0.18245382418)\n",
      "Iteration 66 (change = 0.00912238701736) (0.798365 seconds, I think I'll finish in 0.452406833333 minutes). Alpha: (0.00200317035702,0.180016007423)\n",
      "Iteration 67 (change = 0.00824366859713) (0.754419 seconds, I think I'll finish in 0.41493045 minutes). Alpha: (0.00196982702824,0.176904234691)\n",
      "Iteration 68 (change = 0.00750814354526) (0.786089 seconds, I think I'll finish in 0.419247466667 minutes). Alpha: (0.00193753452984,0.173926727599)\n",
      "Iteration 69 (change = 0.00690320572029) (0.766102 seconds, I think I'll finish in 0.395819366667 minutes). Alpha: (0.00190624865685,0.171837924025)\n",
      "Iteration 70 (change = 0.00641817680671) (0.709761 seconds, I think I'll finish in 0.3548805 minutes). Alpha: (0.0018759290647,0.170667250464)\n",
      "Iteration 71 (change = 0.00603819625487) (0.661478 seconds, I think I'll finish in 0.319714366667 minutes). Alpha: (0.0018465360614,0.169995333133)\n",
      "Iteration 72 (change = 0.00574415334721) (0.720629 seconds, I think I'll finish in 0.336293533333 minutes). Alpha: (0.00181803061301,0.169545139334)\n",
      "Iteration 73 (change = 0.00552467181755) (0.6913 seconds, I think I'll finish in 0.311085 minutes). Alpha: (0.00179037375816,0.169185371814)\n",
      "Iteration 74 (change = 0.005374178235) (0.660755 seconds, I think I'll finish in 0.286327166667 minutes). Alpha: (0.00176353028427,0.168878871737)\n",
      "Iteration 75 (change = 0.00528258197709) (0.665446 seconds, I think I'll finish in 0.277269166667 minutes). Alpha: (0.00173746581503,0.168600558562)\n",
      "Iteration 76 (change = 0.0052450592764) (0.661233 seconds, I think I'll finish in 0.2644932 minutes). Alpha: (0.00171214633735,0.168326393862)\n",
      "Iteration 77 (change = 0.0052593658849) (0.638561 seconds, I think I'll finish in 0.244781716667 minutes). Alpha: (0.00168753936395,0.168043303128)\n",
      "Iteration 78 (change = 0.0053296639547) (0.65442 seconds, I think I'll finish in 0.239954 minutes). Alpha: (0.00166361404825,0.16774388102)\n",
      "Iteration 79 (change = 0.00546224156675) (0.648198 seconds, I think I'll finish in 0.2268693 minutes). Alpha: (0.00164034270186,0.167439044644)\n",
      "Iteration 80 (change = 0.00566545142239) (0.655648 seconds, I think I'll finish in 0.218549333333 minutes). Alpha: (0.00161770010397,0.167141955308)\n",
      "Iteration 81 (change = 0.00593574227667) (0.67618 seconds, I think I'll finish in 0.214123666667 minutes). Alpha: (0.00159566191679,0.166852266726)\n",
      "Iteration 82 (change = 0.0062715472792) (0.674458 seconds, I think I'll finish in 0.2023374 minutes). Alpha: (0.00157420454973,0.166563788463)\n",
      "Iteration 83 (change = 0.0066666825792) (0.633746 seconds, I think I'll finish in 0.179561366667 minutes). Alpha: (0.00155330476274,0.166263826062)\n",
      "Iteration 84 (change = 0.00711167186313) (0.625964 seconds, I think I'll finish in 0.166923733333 minutes). Alpha: (0.00153294108628,0.165952942159)\n",
      "Iteration 85 (change = 0.00759655344713) (0.627101 seconds, I think I'll finish in 0.15677525 minutes). Alpha: (0.0015130938015,0.165637242372)\n",
      "Iteration 86 (change = 0.00813252523096) (0.631702 seconds, I think I'll finish in 0.147397133333 minutes). Alpha: (0.0014937443685,0.165319300808)\n",
      "Iteration 87 (change = 0.00873302483248) (0.628034 seconds, I think I'll finish in 0.136074033333 minutes). Alpha: (0.00147487499417,0.164995425964)\n",
      "Iteration 88 (change = 0.00935809811716) (0.631443 seconds, I think I'll finish in 0.1262886 minutes). Alpha: (0.00145646832157,0.164654771796)\n",
      "Iteration 89 (change = 0.00998768278446) (0.630354 seconds, I think I'll finish in 0.1155649 minutes). Alpha: (0.00143850701577,0.164275787923)\n",
      "Iteration 90 (change = 0.0105986545644) (0.63249 seconds, I think I'll finish in 0.105415 minutes). Alpha: (0.00142097494681,0.163841637218)\n",
      "Iteration 91 (change = 0.0111451052762) (0.669351 seconds, I think I'll finish in 0.10040265 minutes). Alpha: (0.00140385776047,0.163331259247)\n",
      "Iteration 92 (change = 0.0115378524478) (0.658695 seconds, I think I'll finish in 0.087826 minutes). Alpha: (0.00138714064307,0.162660227973)\n",
      "Iteration 93 (change = 0.0116636816183) (0.623696 seconds, I think I'll finish in 0.0727645333333 minutes). Alpha: (0.00137080812497,0.161666913448)\n",
      "Iteration 94 (change = 0.0114355002718) (0.612333 seconds, I think I'll finish in 0.0612333 minutes). Alpha: (0.00135484709531,0.160423962091)\n",
      "Iteration 95 (change = 0.0109068335918) (0.617274 seconds, I think I'll finish in 0.0514395 minutes). Alpha: (0.00133924531676,0.159543260125)\n",
      "Iteration 96 (change = 0.0102675469218) (0.616836 seconds, I think I'll finish in 0.0411224 minutes). Alpha: (0.00132399044987,0.159018082051)\n",
      "Iteration 97 (change = 0.00967182126832) (0.61351 seconds, I think I'll finish in 0.0306755 minutes). Alpha: (0.00130907164603,0.158651901987)\n",
      "Iteration 98 (change = 0.00914795525053) (0.6496 seconds, I think I'll finish in 0.0216533333333 minutes). Alpha: (0.00129447801361,0.158346320981)\n",
      "Iteration 99 (change = 0.00865350794034) (0.629986 seconds, I think I'll finish in 0.0104997666667 minutes). Alpha: (0.0012801987632,0.158057165069)\n"
     ]
    }
   ],
   "source": [
    "vlda.run_vb(n_its = 100,initialise = True)"
   ]
  },
  {
   "cell_type": "code",
   "execution_count": 70,
   "metadata": {
    "scrolled": true
   },
   "outputs": [
    {
     "name": "stdout",
     "output_type": "stream",
     "text": [
      "lf_motif_199.m2m 311 293 265 283 312 275 247 371 237 251 0.158057165069\n",
      "motif_113 None 0.13500310097\n",
      "lf_motif_491.m2m 251 253 211 249 225 207 159 209 173 0.126459152481\n",
      "mb_motif_13.m2m Alkyl aromatic substructure – indicative for aromatic ring with 2-carbon alkyl chain attached i.e. phenylethene fragment from ethylbenzene as a result of the fragmentation process. 0.0833525688934\n",
      "motif_112 None 0.0705720449132\n",
      "mb_motif_19.m2m Fragments indicative for ethylphenol (i.e. resulting from Tyramine in beer) or the structurally related paramethylmethoxybenzene (MassBank) substructure 0.0656312663515\n",
      "lf_motif_255.m2m 353 293 311 265 354 275 283 371 247 335 0.06026575609\n",
      "lf_motif_78.m2m 293 263 265 235 251 311 223 281 283 221 0.0556657098216\n",
      "lf_motif_265.m2m Diterp 329 311 293 283 275 265 0.0534427613665\n",
      "lf_motif_421.m2m Diterp 329 311 293 283 265 0.052518469257\n",
      "motif_110 None 0.0508048755603\n",
      "lf_motif_308.m2m 311 105 293 265 329 283 415 433 159 269 0.0502555136585\n",
      "lf_motif_345.m2m Important motif 0.0460580626036\n",
      "mb_motif_30.m2m Fragment indicative for aromatic compounds related to methylbenzene substructure (C7H7 fragment) 0.037843964967\n",
      "mb_motif_6.m2m Amine loss - Indicative for free NH2 group in fragmented molecule 0.037330910751\n",
      "lf_motif_360.m2m Loss of NH3 adducts + H2O in diterpene 0.033663102948\n",
      "lf_motif_297.m2m 227 161 237 187 175 239 337 211 201 197 0.0327820000959\n",
      "lf_motif_249.m2m 77 76 0.0283074574113\n",
      "lf_motif_328.m2m Tig fragment (83) and others 0.0265570906783\n",
      "mb_motif_38.m2m Fragments indicative for dihydroxylated benzene ring substructure (MzCloud) – C6H5O2 fragment corresponds to positively charged fragment with two hydroxyl groups. 0.0243453310523\n",
      "lf_motif_392.m2m loss 77 loss 76 0.0242060845367\n",
      "lf_motif_476.m2m 331 285 267 0.0217772391394\n",
      "lf_motif_316.m2m 295 267 277 296 253 225 249 237 285 211 0.0211247693454\n",
      "lf_motif_295.m2m diterpene phorbol ester (PE)? 311 293 283 275 265 0.0194519330425\n",
      "mb_motif_20.m2m Fragments indicative for cinnamic/hydroxycinnamic acid substructure 0.0191475579159\n",
      "lf_motif_162.m2m DSF dPE/IE or JE Group B 0.0182198542828\n",
      "lf_motif_62.m2m DSF (dPE/IE or JE Group B) 0.0179363713558\n",
      "lf_motif_346.m2m 457 458 loss 35 loss 34 loss 53 loss 52 0.017707635794\n",
      "lf_motif_173.m2m Diterp 325 297 293 0.0159288248188\n",
      "lf_motif_179.m2m diterpene phorbol ester (PE)? 311 293 283 275 265 0.0151331074577\n",
      "lf_motif_413.m2m 313 314 285 0.0139846303841\n",
      "lf_motif_182.m2m Diterp 535 353 311 293 0.0124964210829\n",
      "lf_motif_299.m2m Loss of phenylgroup 77 and other fragments 0.0124346541278\n",
      "lf_motif_158.m2m loss 17 loss 16 0.0109173873599\n",
      "lf_motif_467.m2m diterpene dPE/IE 355 313 285 277 0.0104300980154\n",
      "lf_motif_18.m2m m/z 203 189 0.00921287755824\n",
      "lf_motif_333.m2m Diterp 309 307 291 283 279 0.00904525042806\n",
      "lf_motif_335.m2m 345 299 327 467 346 281 317 257 309 loss 133 0.00888290071123\n",
      "lf_motif_377.m2m diterpene dPE/IE 331 313 285 277 267 with benzoyl cation 105 0.00875963434253\n",
      "lf_motif_341.m2m diterpene dPE/IE 355 295 285 277 267 0.00874217399948\n",
      "lf_motif_400.m2m 355 356 295 267 loss 42 0.00868596827786\n",
      "lf_motif_126.m2m Diterp 327 309 299 281 0.00753047589046\n",
      "motif_111 None 0.00626897700833\n",
      "lf_motif_427.m2m DSF phorbol ester (PE) 367 311 293 265 263 0.00577049971511\n",
      "mb_motif_11.m2m Atenolol related fragments and losses 0.00537965539334\n",
      "lf_motif_135.m2m 431 167 171 432 loss 53 loss 52 loss 71 loss 81 loss 18 0.00531822090476\n",
      "mb_motif_24.m2m Fragments indicative of a glycosylation – i.e. indicative for a sugar conjugation (in beer often related to glucose) 0.00524867018454\n",
      "lf_motif_260.m2m Diterp 327 299 281 - 105 0.00451924504519\n",
      "lf_motif_64.m2m Nic + H20 124 Nic -H20 106 and others 0.00395482759572\n",
      "lf_motif_93.m2m 271 253 257 243 239 211 201 197 157 215 0.00386376728665\n",
      "lf_motif_14.m2m Diterp 611 333 277 275 259 0.00379186187923\n",
      "lf_motif_92.m2m Diterp 297 279 269 0.00377932539349\n",
      "mb_motif_32.m2m Fragments indicative for ferulic acid based substructure (MzCloud) 0.00376088013482\n",
      "lf_motif_296.m2m Diterp 577 537 355 313 295 267 0.00375377919268\n",
      "lf_motif_149.m2m jatrophane 399 339 279 251 0.00374135806525\n",
      "mb_motif_27.m2m Loss indicative of carboxylic acid group with 1-carbon attached. 0.00373783155736\n",
      "lf_motif_254.m2m 281 253 299 211 197 105 225 282 239 263 0.00371511220586\n",
      "lf_motif_350.m2m Important motif 0.00369025229599\n",
      "lf_motif_0.m2m 173 415 216 185 351 171 593 387 0.00319292752318\n",
      "lf_motif_277.m2m 311 595 293 431 371 473 353 283 491 413 0.0031428664098\n",
      "lf_motif_375.m2m 355 415 313 397 337 373 475 277 415 373 0.00249488401906\n",
      "mb_motif_31.m2m Imidazole group linked to a carboxylgroup through one CH2 group i.e. like in imidazole acetic acid 0.00239072166836\n",
      "lf_motif_75.m2m 247 259 123 109 229 loss 178 loss 196 loss 166 loss 184 0.00236995498806\n",
      "lf_motif_362.m2m m/z 455 437 472 0.00236918321705\n",
      "mb_motif_4.m2m Loss of methyl group – indicative for presence of methoxy [O-CH3] methylsulfyl [S-CH3] or methylgroup connected to aromatic ring system 0.00236857033745\n",
      "mb_motif_40.m2m Loss indicative of [deoxyhexose-H2O] 0.00234885655639\n",
      "mb_motif_28.m2m Fragment ions indicative for C6H12NO substructure (in beer related to N-acetylputrescine - MzCloud) 0.00234858597409\n",
      "lf_motif_207.m2m 441 442 247 109 0.00234664595291\n",
      "mb_motif_8.m2m Fragments indicative for y-aminobutyric acid (amimobutyrate) substructure (MzCloud) 0.00234108684232\n",
      "lf_motif_95.m2m 423 424 405 233 424 109 137 205 201 0.00234035258357\n",
      "mb_motif_22.m2m Water loss - indicative of a free hydroxyl group – (in beer often seen in sugary structures) 0.00233806865765\n",
      "lf_motif_192.m2m DSF Jatrophane Group A 299 281 271 263 253 with benzoyl cation 105 0.00168092698147\n",
      "lf_motif_44.m2m 351 263 164 162 176 104 102 loss 134 loss 74 loss 116 0.0015662983164\n",
      "lf_motif_322.m2m NL AcOH m/z 295 277 0.00150449731057\n",
      "lf_motif_432.m2m jatrophane 582 459 399 339 279 251 Nic + H20 124 Nic -H20 106 0.00148328162042\n",
      "lf_motif_477.m2m 487 207 538 109 469 loss 51 loss 69 loss 50 loss 93 loss 34 0.00141768747029\n",
      "mb_motif_29.m2m Oxygen-rich losses and fragments also occurring in hexose spectra – related to M2M 211 (hexose [glucose] conjugatation) – possibly hydrated-hexose loss? 0.00141272257943\n",
      "lf_motif_132.m2m Benzoyl cation 105 and others 0.00138397394703\n",
      "lf_motif_435.m2m 299 271 300 421 105 137 481 499 439 loss 182 0.00137811628668\n",
      "lf_motif_37.m2m loss 51 69 0.00133711224271\n",
      "mb_motif_43.m2m Fragments indicative for histidine (C6H10N3O2) substructure (MzCloud) 0.00133014158337\n",
      "lf_motif_403.m2m jatrophane 355 337 285 277 267 Nic + H20 124 Nic -H20 106 0.00132418641857\n",
      "lf_motif_180.m2m Unknown Nic and Nic + H20 (106 124) 0.00131602377063\n",
      "lf_motif_376.m2m jatrophane 337 285 277 Nic + H20 124 Nic -H20 106 0.00131416915506\n",
      "mb_motif_195.m2m Amide presence 0.00129728306389\n",
      "lf_motif_2.m2m 461 425 443 253 407 426 444 loss 36 0.00129412188559\n",
      "mb_motif_5.m2m Fragment ions indicative for N-acetylputrescine substructure (MzCloud) 0.00128770675799\n",
      "mb_motif_16.m2m Fragments indicative for quercetin/glycosylated quercetin substructure 0.0012864541373\n",
      "mb_motif_10.m2m Loss of C3H6 - indicative for the presence of an isopropyl group 0.0012843801433\n",
      "lf_motif_214.m2m 425 426 407 0.00128431129531\n",
      "mb_motif_42.m2m Fragments indicative for kaempferol/glycosylated kaempferol substructure 0.00128368260401\n",
      "mb_motif_39.m2m Fragments indicative adenine (C5H6N5) substructure 0.00128348633143\n",
      "mb_motif_37.m2m Fragments indicative for [phenylalanine-CHOOH] based substructure 0.00128063242608\n",
      "mb_motif_150.m2m Acetyl loss 0.00128053893275\n",
      "mb_motif_12.m2m Leucine related fragments and losses 0.00128040670886\n",
      "mb_motif_41.m2m Loss indicative of [hexose-H20] 0.00128037843556\n",
      "mb_motif_14.m2m Combination of small losses (i.e. NH3 and CH2O2) 0.0012801987632\n",
      "mb_motif_9.m2m Loss of [hexose-H2O] – indication of hexose conjugation (for example glucose) 0.0012801987632\n",
      "mb_motif_21.m2m Adenine 0.0012801987632\n",
      "mb_motif_17.m2m Fragment ions indicative for pyroglutamic acid (pyroglutamate) or glutamine (both in MzCloud) – structure can be formed from glutamic acid (glutamate) in the mass spectrometer as well. 0.0012801987632\n",
      "mb_motif_35.m2m Fragment ions indicative for alkylamine substructure C5H10N (in beer often pipecolic acid [pipecolate]) 0.0012801987632\n",
      "mb_motif_18.m2m CO loss - indicative for presence of ketone/aldehyde/lactone group (C=O) 0.0012801987632\n",
      "mb_motif_34.m2m Double water loss i.e. 2*H20 – Generic feature for metabolites containing several free OH groups attached to a aliphatic chain like sugars. 0.0012801987632\n",
      "mb_motif_2.m2m Combined loss of H2O and CO – indicative for free carboxylic acid group (COOH) – generic substructure in amino acids and organic acids 0.0012801987632\n",
      "mb_motif_33.m2m Fragment ions indicative for guanine (C5H5N5O) based substructure 0.0012801987632\n",
      "mb_motif_26.m2m Fragment ion indicative for the presence of a phosphate group (H4O4P) 0.0012801987632\n",
      "mb_motif_15.m2m Combined loss of H2O and CO – indicative for free carboxylic acid group (COOH) – generic substructure in amino acids and organic acids - this is the second of two motifs (see also motif_20) 0.0012801987632\n",
      "mb_motif_0.m2m nitrogen containing substructure [C5H12N] (in beer related to Leucine) 0.0012801987632\n",
      "mb_motif_23.m2m [Pentose (C5-sugar)-H2O] related loss – indicative for conjugated pentose sugar - EF fits 0.0012801987632\n",
      "mb_motif_1.m2m Fragment of C5H10NO2 and loss of C5H9NO2 (in beer likely to be [proline-H2O] - indicative for conjugated proline) 0.0012801987632\n",
      "mb_motif_3.m2m Small nitrogen containing fragment ion – often proline or ornithine derived – most abundant fragment in beer data 0.0012801987632\n",
      "mb_motif_36.m2m Fragments indicative for asparagine substructure (MzCloud) – prevalent in Beer 3 0.0012801987632\n",
      "mb_motif_25.m2m Fragments indicative for histidine (C6H10N3O2) substructure (MzCloud) 0.0012801987632\n",
      "mb_motif_7.m2m Aliphatic alkylamine (in beer: NH3 loss indicates free NH2 group coupled to aliphatic chain) 0.0012801987632\n"
     ]
    }
   ],
   "source": [
    "from lda_utilities import alpha_report\n",
    "alpha_report(vlda)"
   ]
  },
  {
   "cell_type": "code",
   "execution_count": null,
   "metadata": {},
   "outputs": [],
   "source": []
  }
 ],
 "metadata": {
  "kernelspec": {
   "display_name": "Python 2",
   "language": "python",
   "name": "python2"
  },
  "language_info": {
   "codemirror_mode": {
    "name": "ipython",
    "version": 2
   },
   "file_extension": ".py",
   "mimetype": "text/x-python",
   "name": "python",
   "nbconvert_exporter": "python",
   "pygments_lexer": "ipython2",
   "version": "2.7.13"
  }
 },
 "nbformat": 4,
 "nbformat_minor": 2
}
