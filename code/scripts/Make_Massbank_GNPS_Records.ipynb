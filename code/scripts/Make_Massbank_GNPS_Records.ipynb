{
 "cells": [
  {
   "cell_type": "markdown",
   "metadata": {},
   "source": [
    "Mucky notebook to pull annotated motifs from ms2lda.org"
   ]
  },
  {
   "cell_type": "code",
   "execution_count": 15,
   "metadata": {
    "collapsed": true
   },
   "outputs": [],
   "source": [
    "import requests,csv"
   ]
  },
  {
   "cell_type": "code",
   "execution_count": 23,
   "metadata": {},
   "outputs": [],
   "source": [
    "massbank_id = 191\n",
    "url = 'http://ms2lda.org/basicviz/get_annotated_topics/{}'.format(massbank_id)\n",
    "response = requests.get(url)"
   ]
  },
  {
   "cell_type": "code",
   "execution_count": 25,
   "metadata": {},
   "outputs": [],
   "source": [
    "annotations = {}\n",
    "spec = {}\n",
    "prefix = 'gnps'\n",
    "for name,annotation in response.json()[0]:\n",
    "    annotations[name] = annotation\n",
    "for name,s in response.json()[1]:\n",
    "    spec[name] = {}\n",
    "    for f,i in s:\n",
    "        spec[name][f] = i"
   ]
  },
  {
   "cell_type": "code",
   "execution_count": 26,
   "metadata": {},
   "outputs": [],
   "source": [
    "out_path = '/Users/simon/git/motifdb/motifs/gnps_binned_005/'\n",
    "for name,annotation in annotations.items():\n",
    "    filename = out_path + prefix + '_' + name + '.m2m'\n",
    "    with open(filename,'w') as f:\n",
    "        writer = csv.writer(f,delimiter = ',',dialect='excel')\n",
    "        writer.writerow(['# ' + prefix + '_' +name])\n",
    "        writer.writerow(['# ' + annotation.encode('utf8')])\n",
    "        writer.writerow(['# Derived from gnps_binned_005 ms2lda experiment id=191'])\n",
    "        s = zip(spec[name].keys(),spec[name].values())\n",
    "        s = sorted(s,key = lambda x: x[1],reverse = True)\n",
    "        for f,i in s:\n",
    "            writer.writerow([f,i])"
   ]
  },
  {
   "cell_type": "code",
   "execution_count": null,
   "metadata": {
    "collapsed": true
   },
   "outputs": [],
   "source": []
  }
 ],
 "metadata": {
  "kernelspec": {
   "display_name": "Python 2",
   "language": "python",
   "name": "python2"
  },
  "language_info": {
   "codemirror_mode": {
    "name": "ipython",
    "version": 2
   },
   "file_extension": ".py",
   "mimetype": "text/x-python",
   "name": "python",
   "nbconvert_exporter": "python",
   "pygments_lexer": "ipython2",
   "version": "2.7.10"
  }
 },
 "nbformat": 4,
 "nbformat_minor": 2
}
