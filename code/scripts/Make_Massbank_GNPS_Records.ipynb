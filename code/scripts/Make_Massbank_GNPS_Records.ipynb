{
 "cells": [
  {
   "cell_type": "markdown",
   "metadata": {},
   "source": [
    "Mucky notebook to pull annotated motifs from ms2lda.org"
   ]
  },
  {
   "cell_type": "code",
   "execution_count": 1,
   "metadata": {},
   "outputs": [],
   "source": [
    "import requests,csv"
   ]
  },
  {
   "cell_type": "markdown",
   "metadata": {},
   "source": [
    "Run one of the three cells below, depending on the experiment of choice"
   ]
  },
  {
   "cell_type": "code",
   "execution_count": 2,
   "metadata": {},
   "outputs": [],
   "source": [
    "experiment_id = 390 # which experiment\n",
    "out_path = '/home/simon/git/motifdb/motifs/lf_005/' # where to save the m2m files\n",
    "prefix = 'lf' # what to append to the name (i.e. to avoid lots of things called motif_x.m2m)\n",
    "description = '#COMMENT Derived from Louis Felix ms2lda experiment id={}'.format(experiment_id)"
   ]
  },
  {
   "cell_type": "code",
   "execution_count": 6,
   "metadata": {},
   "outputs": [],
   "source": [
    "experiment_id = 190 # which experiment\n",
    "out_path = '/home/simon/git/motifdb/motifs/massbank_binned_005/' # where to save the m2m files\n",
    "prefix = 'mb' # what to append to the name (i.e. to avoid lots of things called motif_x.m2m)\n",
    "description = '#COMMENT Derived from massbank_binned_005 ms2lda experiment id={}'.format(experiment_id)"
   ]
  },
  {
   "cell_type": "code",
   "execution_count": 10,
   "metadata": {},
   "outputs": [],
   "source": [
    "experiment_id = 191 # which experiment\n",
    "out_path = '/home/simon/git/motifdb/motifs/gnps_binned_005/' # where to save the m2m files\n",
    "prefix = 'gnps' # what to append to the name (i.e. to avoid lots of things called motif_x.m2m)\n",
    "description = '#COMMENT Derived from gnps_binned_005 ms2lda experiment id={}'.format(experiment_id)"
   ]
  },
  {
   "cell_type": "code",
   "execution_count": 11,
   "metadata": {},
   "outputs": [],
   "source": [
    "url = 'http://ms2lda.org/basicviz/get_annotated_topics/{}'.format(experiment_id)\n",
    "response = requests.get(url)"
   ]
  },
  {
   "cell_type": "code",
   "execution_count": 12,
   "metadata": {},
   "outputs": [],
   "source": [
    "annotations = {}\n",
    "spec = {}\n",
    "\n",
    "for name,annotation,short_annotation in response.json()[0]:\n",
    "    annotations[name] = (annotation,short_annotation)\n",
    "for name,s in response.json()[1]:\n",
    "    spec[name] = {}\n",
    "    for f,i in s:\n",
    "        spec[name][f] = i"
   ]
  },
  {
   "cell_type": "code",
   "execution_count": 13,
   "metadata": {},
   "outputs": [],
   "source": [
    "for name,(annotation,short_annotation) in annotations.items():\n",
    "    filename = out_path + prefix + '_' + name + '.m2m'\n",
    "    with open(filename,'w') as f:\n",
    "        writer = csv.writer(f,delimiter = ',',dialect='excel')\n",
    "        writer.writerow(['#NAME ' + prefix + '_' +name])\n",
    "        writer.writerow(['#ANNOTATION ' + \" \".join(annotation.encode('utf8').split(','))])\n",
    "        writer.writerow(['#SHORT_ANNOTATION ' + \" \".join(short_annotation.encode('utf8').split(','))])\n",
    "        writer.writerow([description])\n",
    "        s = zip(spec[name].keys(),spec[name].values())\n",
    "        s = sorted(s,key = lambda x: x[1],reverse = True)\n",
    "        for f,i in s:\n",
    "            writer.writerow([f,i])"
   ]
  },
  {
   "cell_type": "code",
   "execution_count": null,
   "metadata": {
    "collapsed": true
   },
   "outputs": [],
   "source": []
  }
 ],
 "metadata": {
  "kernelspec": {
   "display_name": "Python 2",
   "language": "python",
   "name": "python2"
  },
  "language_info": {
   "codemirror_mode": {
    "name": "ipython",
    "version": 2
   },
   "file_extension": ".py",
   "mimetype": "text/x-python",
   "name": "python",
   "nbconvert_exporter": "python",
   "pygments_lexer": "ipython2",
   "version": "2.7.13"
  }
 },
 "nbformat": 4,
 "nbformat_minor": 2
}
